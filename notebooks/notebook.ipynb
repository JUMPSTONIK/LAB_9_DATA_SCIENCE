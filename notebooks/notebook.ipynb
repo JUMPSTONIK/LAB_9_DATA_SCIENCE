{
 "cells": [
  {
   "cell_type": "code",
   "execution_count": null,
   "metadata": {},
   "outputs": [],
   "source": [
    "import os \n",
    "import pandas as pd\n",
    "\n",
    "def list_files(path, ext):\n",
    "    files = sorted([os.path.join(path, file)\n",
    "                    for file in os.listdir(path) if file.endswith(ext)])\n",
    "    return files"
   ]
  },
  {
   "cell_type": "code",
   "execution_count": null,
   "metadata": {},
   "outputs": [],
   "source": [
    "# Loading and Merge\n",
    "\n",
    "path = r\"/home/jose/Documents/UVG/Data Science/Lab9/data/importaciones\"\n",
    "all_files = list_files(path, \".txt\")\n",
    "\n",
    "df = pd.concat((\n",
    "    pd.read_csv(f, sep=\"|\", encoding=\"latin-1\", index_col=False)\n",
    "    for f in all_files\n",
    "))"
   ]
  },
  {
   "cell_type": "code",
   "execution_count": null,
   "metadata": {},
   "outputs": [],
   "source": [
    "# Export\n",
    "\n",
    "filename = r\"/home/jose/Documents/UVG/Data Science/Lab9/data/importaciones.csv\"\n",
    "\n",
    "df.to_csv(filename, index=False, header=True)"
   ]
  }
 ],
 "metadata": {
  "kernelspec": {
   "display_name": "Python 3",
   "language": "python",
   "name": "python3"
  },
  "language_info": {
   "codemirror_mode": {
    "name": "ipython",
    "version": 3
   },
   "file_extension": ".py",
   "mimetype": "text/x-python",
   "name": "python",
   "nbconvert_exporter": "python",
   "pygments_lexer": "ipython3",
   "version": "3.8.6"
  }
 },
 "nbformat": 4,
 "nbformat_minor": 4
}
